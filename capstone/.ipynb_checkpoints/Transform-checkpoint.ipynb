{
 "cells": [
  {
   "cell_type": "code",
   "execution_count": 5,
   "metadata": {},
   "outputs": [],
   "source": [
    "import os\n",
    "from glob import glob\n",
    "from datetime import datetime\n",
    "from shutil import copyfile\n",
    " \n",
    "import imgaug as ia\n",
    "from imgaug import augmenters as iaa\n",
    "from imageio import imwrite, imread"
   ]
  },
  {
   "cell_type": "code",
   "execution_count": 9,
   "metadata": {},
   "outputs": [],
   "source": [
    "INPUT = \"/Users/marc/dlwpt-code/capstone/data/celebs/blackwomen/blackwomen/\"\n",
    "OUTPUT = \"/Users/marc/dlwpt-code/capstone/data/celebs/blackwomen/\"\n",
    "WHITE_LIST_FORMAT = ('png', 'jpg', 'jpeg', 'bmp', 'ppm', 'JPG')\n",
    "ITERATIONS = 5"
   ]
  },
  {
   "cell_type": "code",
   "execution_count": 10,
   "metadata": {},
   "outputs": [],
   "source": [
    "def check_dir_or_create(dir):\n",
    "    if not os.path.exists(dir):\n",
    "        os.makedirs(dir)\n",
    " \n",
    "# Sometimes(0.5, ...) applies the given augmenter in 50% of all cases,\n",
    "# e.g. Sometimes(0.5, GaussianBlur(0.3)) would blur roughly every second image.\n",
    "sometimes = lambda aug: iaa.Sometimes(0.7, aug)\n",
    " \n",
    "# Define our sequence of augmentation steps that will be applied to every image\n",
    "# All augmenters with per_channel=0.5 will sample one value _per image_\n",
    "# in 50% of all cases. In all other cases they will sample new values\n",
    "# _per channel_.\n",
    " \n",
    "augmenters = [\n",
    "    iaa.Fliplr(0.5), # horizontal flips\n",
    "    iaa.Crop(percent=(0, 0.1)), # random crops\n",
    "    # Strengthen or weaken the contrast in each image.\n",
    "    iaa.contrast.LinearContrast((0.75, 1.5)),\n",
    "    # Make some images brighter and some darker.\n",
    "    # In 20% of all cases, we sample the multiplier once per channel,\n",
    "    # which can end up changing the color of the images.\n",
    "    iaa.Multiply((0.8, 1.2), per_channel=0.2),\n",
    "    # Apply affine transformations to each image.\n",
    "    # Scale/zoom them, translate/move them, rotate them and shear them.\n",
    "    iaa.Affine(\n",
    "        scale={\"x\": (0.8, 1.2), \"y\": (0.8, 1.2)},\n",
    "        translate_percent={\"x\": (-0.2, 0.2), \"y\": (-0.2, 0.2)},\n",
    "#         rotate=(-25, 25),\n",
    "#         shear=(-8, 8)\n",
    "    )\n",
    "]"
   ]
  },
  {
   "cell_type": "code",
   "execution_count": 11,
   "metadata": {},
   "outputs": [
    {
     "name": "stdout",
     "output_type": "stream",
     "text": [
      "0 15:45:44.322903\n",
      "1 15:45:44.804871\n",
      "2 15:45:45.270889\n",
      "3 15:45:45.739054\n",
      "4 15:45:46.201789\n"
     ]
    }
   ],
   "source": [
    " \n",
    "seq = iaa.Sequential(augmenters, random_order=True)\n",
    " \n",
    "files = [y for x in os.walk(INPUT)\n",
    "         for y in glob(os.path.join(x[0], '*')) if os.path.isfile(y)]\n",
    "files = [f for f in files if f.endswith(WHITE_LIST_FORMAT)]\n",
    "classes = [os.path.basename(os.path.dirname(x)) for x in files]\n",
    "classes_set = set(classes)\n",
    "for _class in classes_set:\n",
    "    _dir = os.path.join(OUTPUT, _class)\n",
    "    check_dir_or_create(_dir)\n",
    " \n",
    "batches = []\n",
    "BATCH_SIZE = 50\n",
    "batches_count = len(files) // BATCH_SIZE + 1\n",
    "for i in range(batches_count):\n",
    "    batches.append(files[BATCH_SIZE * i:BATCH_SIZE * (i + 1)])\n",
    " \n",
    "images = []\n",
    "for i in range(ITERATIONS):\n",
    "    print(i, datetime.time(datetime.now()))\n",
    "    for batch in batches:\n",
    "        images = []\n",
    "        for file in batch:\n",
    "            img = imread(file)\n",
    "            images.append(img)\n",
    "        images_aug = seq.augment_images(images)\n",
    "        for file, image_aug in zip(batch, images_aug):\n",
    "            root, ext = os.path.splitext(file)\n",
    "            new_filename = root + '_{}'.format(i) + ext\n",
    "            new_path = new_filename.replace(INPUT, OUTPUT, 1)\n",
    "                        \n",
    "            imwrite(new_path, image_aug)\n",
    " \n",
    "for file in files:\n",
    "    dst = file.replace(INPUT, OUTPUT)\n",
    "    copyfile(file, dst)"
   ]
  },
  {
   "cell_type": "code",
   "execution_count": null,
   "metadata": {},
   "outputs": [],
   "source": []
  }
 ],
 "metadata": {
  "kernelspec": {
   "display_name": "Python 3",
   "language": "python",
   "name": "python3"
  },
  "language_info": {
   "codemirror_mode": {
    "name": "ipython",
    "version": 3
   },
   "file_extension": ".py",
   "mimetype": "text/x-python",
   "name": "python",
   "nbconvert_exporter": "python",
   "pygments_lexer": "ipython3",
   "version": "3.8.1"
  }
 },
 "nbformat": 4,
 "nbformat_minor": 4
}
