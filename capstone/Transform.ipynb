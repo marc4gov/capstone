{
 "cells": [
  {
   "cell_type": "code",
   "execution_count": 71,
   "metadata": {},
   "outputs": [],
   "source": [
    "import os\n",
    "from glob import glob\n",
    "from datetime import datetime\n",
    "from shutil import copyfile\n",
    " \n",
    "import imgaug as ia\n",
    "from imgaug import augmenters as iaa\n",
    "from imageio import imwrite, imread"
   ]
  },
  {
   "cell_type": "code",
   "execution_count": 102,
   "metadata": {},
   "outputs": [],
   "source": [
    "INPUT = \"/Users/marc/dlwpt-code/capstone/data/celebstest/caucasianmen/\"\n",
    "OUTPUT = \"/Users/marc/dlwpt-code/capstone/data/celebstestset/caucasianmen/\"\n",
    "WHITE_LIST_FORMAT = ('png', 'jpg', 'jpeg', 'bmp', 'ppm', 'JPG')\n",
    "ITERATIONS = 17"
   ]
  },
  {
   "cell_type": "code",
   "execution_count": 103,
   "metadata": {},
   "outputs": [],
   "source": [
    "def check_dir_or_create(dir):\n",
    "    if not os.path.exists(dir):\n",
    "        os.makedirs(dir)\n",
    " \n",
    "# Sometimes(0.5, ...) applies the given augmenter in 50% of all cases,\n",
    "# e.g. Sometimes(0.5, GaussianBlur(0.3)) would blur roughly every second image.\n",
    "sometimes = lambda aug: iaa.Sometimes(0.5, aug)\n",
    " \n",
    "# Define our sequence of augmentation steps that will be applied to every image\n",
    "# All augmenters with per_channel=0.5 will sample one value _per image_\n",
    "# in 50% of all cases. In all other cases they will sample new values\n",
    "# _per channel_.\n",
    " \n",
    "augmenters = [\n",
    "    iaa.Fliplr(0.5), # horizontal flips\n",
    "    iaa.Crop(percent=(0, 0.1)), # random crops\n",
    "    # Strengthen or weaken the contrast in each image.\n",
    "    iaa.contrast.LinearContrast((0.75, 1.5)),\n",
    "    # Make some images brighter and some darker.\n",
    "    # In 20% of all cases, we sample the multiplier once per channel,\n",
    "    # which can end up changing the color of the images.\n",
    "    iaa.Multiply((0.8, 1.2), per_channel=0.2),\n",
    "    # Apply affine transformations to each image.\n",
    "    # Scale/zoom them, translate/move them, rotate them and shear them.\n",
    "    iaa.Affine(\n",
    "        scale={\"x\": (0.8, 1.2), \"y\": (0.8, 1.2)},\n",
    "        translate_percent={\"x\": (-0.2, 0.2), \"y\": (-0.2, 0.2)},\n",
    "#         rotate=(-25, 25),\n",
    "#         shear=(-8, 8)\n",
    "    )\n",
    "]"
   ]
  },
  {
   "cell_type": "code",
   "execution_count": 104,
   "metadata": {},
   "outputs": [
    {
     "name": "stdout",
     "output_type": "stream",
     "text": [
      "0 12:26:15.873327\n",
      "1 12:26:16.757127\n",
      "2 12:26:17.445924\n",
      "3 12:26:18.143780\n",
      "4 12:26:18.906767\n",
      "5 12:26:19.657744\n",
      "6 12:26:20.389072\n",
      "7 12:26:21.123381\n",
      "8 12:26:21.892590\n",
      "9 12:26:22.628215\n",
      "10 12:26:23.389091\n",
      "11 12:26:24.140300\n",
      "12 12:26:24.891373\n",
      "13 12:26:25.610038\n",
      "14 12:26:26.340935\n",
      "15 12:26:27.040689\n",
      "16 12:26:27.743125\n"
     ]
    }
   ],
   "source": [
    " \n",
    "seq = iaa.Sequential(augmenters, random_order=True)\n",
    " \n",
    "files = [y for x in os.walk(INPUT)\n",
    "         for y in glob(os.path.join(x[0], '*')) if os.path.isfile(y)]\n",
    "files = [f for f in files if f.endswith(WHITE_LIST_FORMAT)]\n",
    "classes = [os.path.basename(os.path.dirname(x)) for x in files]\n",
    "classes_set = set(classes)\n",
    "for _class in classes_set:\n",
    "    _dir = os.path.join(OUTPUT, _class)\n",
    "    check_dir_or_create(_dir)\n",
    " \n",
    "batches = []\n",
    "BATCH_SIZE = 50\n",
    "batches_count = len(files) // BATCH_SIZE + 1\n",
    "for i in range(batches_count):\n",
    "    batches.append(files[BATCH_SIZE * i:BATCH_SIZE * (i + 1)])\n",
    " \n",
    "images = []\n",
    "for i in range(ITERATIONS):\n",
    "    print(i, datetime.time(datetime.now()))\n",
    "    for batch in batches:\n",
    "        images = []\n",
    "        for file in batch:\n",
    "            img = imread(file)\n",
    "            images.append(img)\n",
    "        images_aug = seq.augment_images(images)\n",
    "        for file, image_aug in zip(batch, images_aug):\n",
    "            root, ext = os.path.splitext(file)\n",
    "            new_filename = root + '_{}'.format(i) + ext\n",
    "            new_path = new_filename.replace(INPUT, OUTPUT, 1)\n",
    "                        \n",
    "            imwrite(new_path, image_aug)\n",
    " \n",
    "for file in files:\n",
    "    dst = file.replace(INPUT, OUTPUT)\n",
    "    copyfile(file, dst)"
   ]
  },
  {
   "cell_type": "code",
   "execution_count": null,
   "metadata": {},
   "outputs": [],
   "source": []
  },
  {
   "cell_type": "code",
   "execution_count": null,
   "metadata": {},
   "outputs": [],
   "source": []
  }
 ],
 "metadata": {
  "kernelspec": {
   "display_name": "Python 3",
   "language": "python",
   "name": "python3"
  },
  "language_info": {
   "codemirror_mode": {
    "name": "ipython",
    "version": 3
   },
   "file_extension": ".py",
   "mimetype": "text/x-python",
   "name": "python",
   "nbconvert_exporter": "python",
   "pygments_lexer": "ipython3",
   "version": "3.8.1"
  }
 },
 "nbformat": 4,
 "nbformat_minor": 4
}
